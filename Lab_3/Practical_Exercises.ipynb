{
 "cells": [
  {
   "cell_type": "code",
   "execution_count": 4,
   "id": "bfe5ecfa-b246-40ed-ab10-e0f3f3ad964b",
   "metadata": {},
   "outputs": [
    {
     "data": {
      "text/plain": [
       "15"
      ]
     },
     "execution_count": 4,
     "metadata": {},
     "output_type": "execute_result"
    }
   ],
   "source": [
    "#Question 1:\n",
    "\n",
    "def sum(n):\n",
    "    if n == 1:\n",
    "        return 1\n",
    "    else:\n",
    "        return n + sum(n-1)\n",
    "sum(5)"
   ]
  },
  {
   "cell_type": "code",
   "execution_count": 30,
   "id": "c6beaaa2-9bd7-45b5-855e-220dc91b5c45",
   "metadata": {},
   "outputs": [
    {
     "data": {
      "text/plain": [
       "1"
      ]
     },
     "execution_count": 30,
     "metadata": {},
     "output_type": "execute_result"
    }
   ],
   "source": [
    "#Question 2:\n",
    "\n",
    "def findmin(a,n):\n",
    "    if n == 1:\n",
    "        return a[n-1]\n",
    "    else:\n",
    "        return min(a[n-1], findmin(a, n-1))\n",
    "\n",
    "findmin([1,3,4,10,2,7],6)"
   ]
  },
  {
   "cell_type": "code",
   "execution_count": 24,
   "id": "2e05914a-5c3f-43b1-8fb1-515d6c3321d1",
   "metadata": {},
   "outputs": [
    {
     "data": {
      "text/plain": [
       "15"
      ]
     },
     "execution_count": 24,
     "metadata": {},
     "output_type": "execute_result"
    }
   ],
   "source": [
    "#Question 3:\n",
    "\n",
    "def findsum(a, n):\n",
    "    if n == 1:\n",
    "        return a[n-1]\n",
    "    else:\n",
    "        return a[n-1] + findsum(a, n-1)\n",
    "findsum([1,2,3,4,5],5)"
   ]
  },
  {
   "cell_type": "code",
   "execution_count": 36,
   "id": "56797cf4-35f8-423e-87ae-a00139bd701c",
   "metadata": {},
   "outputs": [
    {
     "data": {
      "text/plain": [
       "True"
      ]
     },
     "execution_count": 36,
     "metadata": {},
     "output_type": "execute_result"
    }
   ],
   "source": [
    "#Question 4:\n",
    "\n",
    "def ispalindrome(a, n):\n",
    "    if n < 2:\n",
    "        return True\n",
    "    elif a[0] != a[n-1]:\n",
    "        return False\n",
    "    else:\n",
    "        return ispalindrome(a[1:n-1], n-2)\n",
    "ispalindrome([1,3,4,2,4,3,1],7)"
   ]
  },
  {
   "cell_type": "code",
   "execution_count": 6,
   "id": "92806c1a-af1f-468d-9bcf-6c4140963bc2",
   "metadata": {},
   "outputs": [],
   "source": [
    "#Question 5:\n",
    "\n",
    "def binary_search(array, size, target):\n",
    "    def helper(array, target, left, right):\n",
    "        if left > right:\n",
    "            return -1\n",
    "        mid = (left + right) // 2\n",
    "        if target == array[mid]:\n",
    "            return mid\n",
    "        elif target < array[mid]:\n",
    "            return helper(array, target, left, mid - 1)\n",
    "        else:\n",
    "            return helper(array, target, mid + 1, right)\n",
    "    return helper(array, target, 0, size - 1)\n"
   ]
  },
  {
   "cell_type": "code",
   "execution_count": 39,
   "id": "ec4db249-d260-4481-a53e-1013dfd938c9",
   "metadata": {},
   "outputs": [
    {
     "data": {
      "text/plain": [
       "6"
      ]
     },
     "execution_count": 39,
     "metadata": {},
     "output_type": "execute_result"
    }
   ],
   "source": [
    "#Question 6:\n",
    "\n",
    "def gcd(m, n):\n",
    "    if n == 0:\n",
    "        return m\n",
    "    else:\n",
    "        return gcd(n, m % n)\n",
    "gcd(12,6)"
   ]
  },
  {
   "cell_type": "code",
   "execution_count": 56,
   "id": "357ceb90-3b9c-48f1-81ad-1bb5006a36cc",
   "metadata": {},
   "outputs": [
    {
     "data": {
      "text/plain": [
       "4"
      ]
     },
     "execution_count": 56,
     "metadata": {},
     "output_type": "execute_result"
    }
   ],
   "source": [
    "#Question 7:\n",
    "\n",
    "def power(x,n):\n",
    "    if n == 0:\n",
    "        return 1\n",
    "    else:\n",
    "        return x*power(x,n-1)\n",
    "power(2,2)"
   ]
  },
  {
   "cell_type": "code",
   "execution_count": 57,
   "id": "d1f1687e-a603-4ebc-8d6a-c6d23a177042",
   "metadata": {},
   "outputs": [
    {
     "data": {
      "text/plain": [
       "120"
      ]
     },
     "execution_count": 57,
     "metadata": {},
     "output_type": "execute_result"
    }
   ],
   "source": [
    "#Question 8:\n",
    "\n",
    "def fact(n):\n",
    "    if n <= 1:\n",
    "        return 1\n",
    "    else:\n",
    "        return n*fact(n-1)\n",
    "fact(5)"
   ]
  },
  {
   "cell_type": "code",
   "execution_count": 60,
   "id": "4df6be94-6f5f-4614-9178-ba0dc6ae2acd",
   "metadata": {},
   "outputs": [
    {
     "data": {
      "text/plain": [
       "55"
      ]
     },
     "execution_count": 60,
     "metadata": {},
     "output_type": "execute_result"
    }
   ],
   "source": [
    "#Question 9:\n",
    "\n",
    "def fib(n):\n",
    "    if n <= 2:\n",
    "        return 1\n",
    "    else:\n",
    "        return fib(n-1) + fib(n-2)\n",
    "fib(10)"
   ]
  },
  {
   "cell_type": "code",
   "execution_count": 63,
   "id": "51a398fd-41b0-4a9a-a286-30d1f1ad4375",
   "metadata": {},
   "outputs": [
    {
     "data": {
      "text/plain": [
       "2.9289682539682538"
      ]
     },
     "execution_count": 63,
     "metadata": {},
     "output_type": "execute_result"
    }
   ],
   "source": [
    "#Question 10:\n",
    "\n",
    "def addReciprocals(n):\n",
    "    if n == 1:\n",
    "        return 1\n",
    "    else:\n",
    "        return 1/n + addReciprocals(n-1)\n",
    "addReciprocals(10)"
   ]
  },
  {
   "cell_type": "code",
   "execution_count": 64,
   "id": "ce5b339a-a916-4225-83d7-50861540cfee",
   "metadata": {},
   "outputs": [
    {
     "ename": "RecursionError",
     "evalue": "maximum recursion depth exceeded in comparison",
     "output_type": "error",
     "traceback": [
      "\u001b[1;31m---------------------------------------------------------------------------\u001b[0m",
      "\u001b[1;31mRecursionError\u001b[0m                            Traceback (most recent call last)",
      "Cell \u001b[1;32mIn[64], line 10\u001b[0m\n\u001b[0;32m      8\u001b[0m     \u001b[38;5;28;01melse\u001b[39;00m:\n\u001b[0;32m      9\u001b[0m         \u001b[38;5;28;01mreturn\u001b[39;00m s(n\u001b[38;5;241m-\u001b[39m\u001b[38;5;241m1\u001b[39m, k\u001b[38;5;241m-\u001b[39m\u001b[38;5;241m1\u001b[39m) \u001b[38;5;241m-\u001b[39m n\u001b[38;5;241m*\u001b[39ms(n\u001b[38;5;241m-\u001b[39m\u001b[38;5;241m1\u001b[39m, k)\n\u001b[1;32m---> 10\u001b[0m \u001b[43ms\u001b[49m\u001b[43m(\u001b[49m\u001b[38;5;241;43m3\u001b[39;49m\u001b[43m,\u001b[49m\u001b[38;5;241;43m4\u001b[39;49m\u001b[43m)\u001b[49m\n",
      "Cell \u001b[1;32mIn[64], line 9\u001b[0m, in \u001b[0;36ms\u001b[1;34m(n, k)\u001b[0m\n\u001b[0;32m      7\u001b[0m     \u001b[38;5;28;01mreturn\u001b[39;00m \u001b[38;5;241m0\u001b[39m\n\u001b[0;32m      8\u001b[0m \u001b[38;5;28;01melse\u001b[39;00m:\n\u001b[1;32m----> 9\u001b[0m     \u001b[38;5;28;01mreturn\u001b[39;00m \u001b[43ms\u001b[49m\u001b[43m(\u001b[49m\u001b[43mn\u001b[49m\u001b[38;5;241;43m-\u001b[39;49m\u001b[38;5;241;43m1\u001b[39;49m\u001b[43m,\u001b[49m\u001b[43m \u001b[49m\u001b[43mk\u001b[49m\u001b[38;5;241;43m-\u001b[39;49m\u001b[38;5;241;43m1\u001b[39;49m\u001b[43m)\u001b[49m \u001b[38;5;241m-\u001b[39m n\u001b[38;5;241m*\u001b[39ms(n\u001b[38;5;241m-\u001b[39m\u001b[38;5;241m1\u001b[39m, k)\n",
      "Cell \u001b[1;32mIn[64], line 9\u001b[0m, in \u001b[0;36ms\u001b[1;34m(n, k)\u001b[0m\n\u001b[0;32m      7\u001b[0m     \u001b[38;5;28;01mreturn\u001b[39;00m \u001b[38;5;241m0\u001b[39m\n\u001b[0;32m      8\u001b[0m \u001b[38;5;28;01melse\u001b[39;00m:\n\u001b[1;32m----> 9\u001b[0m     \u001b[38;5;28;01mreturn\u001b[39;00m \u001b[43ms\u001b[49m\u001b[43m(\u001b[49m\u001b[43mn\u001b[49m\u001b[38;5;241;43m-\u001b[39;49m\u001b[38;5;241;43m1\u001b[39;49m\u001b[43m,\u001b[49m\u001b[43m \u001b[49m\u001b[43mk\u001b[49m\u001b[38;5;241;43m-\u001b[39;49m\u001b[38;5;241;43m1\u001b[39;49m\u001b[43m)\u001b[49m \u001b[38;5;241m-\u001b[39m n\u001b[38;5;241m*\u001b[39ms(n\u001b[38;5;241m-\u001b[39m\u001b[38;5;241m1\u001b[39m, k)\n",
      "    \u001b[1;31m[... skipping similar frames: s at line 9 (2968 times)]\u001b[0m\n",
      "Cell \u001b[1;32mIn[64], line 9\u001b[0m, in \u001b[0;36ms\u001b[1;34m(n, k)\u001b[0m\n\u001b[0;32m      7\u001b[0m     \u001b[38;5;28;01mreturn\u001b[39;00m \u001b[38;5;241m0\u001b[39m\n\u001b[0;32m      8\u001b[0m \u001b[38;5;28;01melse\u001b[39;00m:\n\u001b[1;32m----> 9\u001b[0m     \u001b[38;5;28;01mreturn\u001b[39;00m \u001b[43ms\u001b[49m\u001b[43m(\u001b[49m\u001b[43mn\u001b[49m\u001b[38;5;241;43m-\u001b[39;49m\u001b[38;5;241;43m1\u001b[39;49m\u001b[43m,\u001b[49m\u001b[43m \u001b[49m\u001b[43mk\u001b[49m\u001b[38;5;241;43m-\u001b[39;49m\u001b[38;5;241;43m1\u001b[39;49m\u001b[43m)\u001b[49m \u001b[38;5;241m-\u001b[39m n\u001b[38;5;241m*\u001b[39ms(n\u001b[38;5;241m-\u001b[39m\u001b[38;5;241m1\u001b[39m, k)\n",
      "Cell \u001b[1;32mIn[64], line 4\u001b[0m, in \u001b[0;36ms\u001b[1;34m(n, k)\u001b[0m\n\u001b[0;32m      3\u001b[0m \u001b[38;5;28;01mdef\u001b[39;00m \u001b[38;5;21ms\u001b[39m(n, k):\n\u001b[1;32m----> 4\u001b[0m     \u001b[38;5;28;01mif\u001b[39;00m \u001b[43mn\u001b[49m\u001b[43m \u001b[49m\u001b[38;5;241;43m==\u001b[39;49m\u001b[43m \u001b[49m\u001b[38;5;241;43m0\u001b[39;49m \u001b[38;5;129;01mand\u001b[39;00m k \u001b[38;5;241m==\u001b[39m \u001b[38;5;241m0\u001b[39m:\n\u001b[0;32m      5\u001b[0m         \u001b[38;5;28;01mreturn\u001b[39;00m \u001b[38;5;241m1\u001b[39m\n\u001b[0;32m      6\u001b[0m     \u001b[38;5;28;01melif\u001b[39;00m n \u001b[38;5;241m>\u001b[39m \u001b[38;5;241m0\u001b[39m \u001b[38;5;129;01mand\u001b[39;00m k \u001b[38;5;241m==\u001b[39m \u001b[38;5;241m0\u001b[39m:\n",
      "\u001b[1;31mRecursionError\u001b[0m: maximum recursion depth exceeded in comparison"
     ]
    }
   ],
   "source": [
    "#Question 11:\n",
    "\n",
    "def s(n, k):\n",
    "    if n == 0 and k == 0:\n",
    "        return 1\n",
    "    elif n > 0 and k == 0:\n",
    "        return 0\n",
    "    else:\n",
    "        return s(n-1, k-1) - n*s(n-1, k)\n",
    "s(3,4)"
   ]
  },
  {
   "cell_type": "code",
   "execution_count": 66,
   "id": "a85fde4d-b323-451d-a2e9-1cfeeb3da49f",
   "metadata": {},
   "outputs": [],
   "source": [
    "#Question 12:\n",
    "\n",
    "class TreeNode:\n",
    "    def __init__(self, val=0, left=None, right=None):\n",
    "        self.val = val\n",
    "        self.left = left\n",
    "        self.right = right\n",
    "\n",
    "def height(root):\n",
    "    if root is None:\n",
    "        return 0\n",
    "    else:\n",
    "        left_height = height(root.left)\n",
    "        right_height = height(root.right)\n",
    "        return max(left_height, right_height) + 1\n"
   ]
  },
  {
   "cell_type": "code",
   "execution_count": 67,
   "id": "7133ea15-16a4-43ee-b309-97fa3ce435f1",
   "metadata": {},
   "outputs": [],
   "source": [
    "#Question 13:\n",
    "\n",
    "class TreeNode:\n",
    "    def __init__(self, val=0, left=None, right=None):\n",
    "        self.val = val\n",
    "        self.left = left\n",
    "        self.right = right\n",
    "\n",
    "def size(root):\n",
    "    if root is None:\n",
    "        return 0\n",
    "    else:\n",
    "        left_size = size(root.left)\n",
    "        right_size = size(root.right)\n",
    "        return left_size + right_size + 1\n"
   ]
  }
 ],
 "metadata": {
  "kernelspec": {
   "display_name": "Python 3 (ipykernel)",
   "language": "python",
   "name": "python3"
  },
  "language_info": {
   "codemirror_mode": {
    "name": "ipython",
    "version": 3
   },
   "file_extension": ".py",
   "mimetype": "text/x-python",
   "name": "python",
   "nbconvert_exporter": "python",
   "pygments_lexer": "ipython3",
   "version": "3.10.0"
  }
 },
 "nbformat": 4,
 "nbformat_minor": 5
}
