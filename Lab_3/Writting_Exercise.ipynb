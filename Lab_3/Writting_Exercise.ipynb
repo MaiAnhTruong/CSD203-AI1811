{
 "cells": [
  {
   "cell_type": "code",
   "execution_count": 2,
   "id": "f3e72f15-5836-4b5b-9c42-8d51467627a6",
   "metadata": {},
   "outputs": [],
   "source": [
    "#Question 1:\n",
    "\n",
    "#1.Give the sequence of argument values that result when the following program is invoked for each of the integers 1 through 9:\n",
    "def puzzle(n) :\n",
    "    if n == 1:  \n",
    "        return 1\n",
    "    if n % 2 == 0:\n",
    "        return puzzle(n/2)\n",
    "    else:\n",
    "        return puzzle(3*n+1)\n",
    "\n",
    "\n",
    "#Với n = 1, dãy là 1.\n",
    "#Với n = 2, dãy là 2, 1.\n",
    "#Với n = 3, dãy là 3, 10, 5, 16, 8, 4, 2, 1.\n",
    "#Với n = 4, dãy là 4, 2, 1.\n",
    "#Với n = 5, dãy là 5, 16, 8, 4, 2, 1.\n",
    "#Với n = 6, dãy là 6, 3, 10, 5, 16, 8, 4, 2, 1.\n",
    "#Với n = 7, dãy là 7, 22, 11, 34, 17, 52, 26, 13, 40, 20, 10, 5, 16, 8, 4, 2, 1.\n",
    "#Với n = 8, dãy là 8, 4, 2, 1.\n",
    "#Với n = 9, dãy là 9, 28, 14, 7, 22, 11, 34, 17, 52, 26, 13, 40, 20, 10, 5, 16, 8, 4, 2, 1."
   ]
  },
  {
   "cell_type": "code",
   "execution_count": 4,
   "id": "ce79ce40-9ca1-409c-be3b-2e5885ba802a",
   "metadata": {},
   "outputs": [],
   "source": [
    "#Question 2:\n",
    "\n",
    "#2.   Use the following function puzzle(..) to answer problems 2.1 - 2.3.\n",
    "def puzzle(base, limit):\n",
    "    #base and limit are nonnegative numbers\n",
    "    if base > limit:\n",
    "        return -1\n",
    "    elif base == limit:\n",
    "        return 1\n",
    "    else:\n",
    "        return base * puzzle(base + 1, limit)\n",
    " \n",
    "#2.1 Identify the base case(s) of function puzzle(..)\n",
    "#2.2 Identify the recursive case(s) of function puzzle(..)\n",
    "#2.3 Show what would be displayed by the following calls.\n",
    " \t#a. print(puzzle(14,10)) ---------> -1\n",
    " \t#b. print(puzzle(4,7))   ---------> 120\n",
    " \t#c. print(puzzle(0,0))   ---------> 1\n"
   ]
  },
  {
   "cell_type": "code",
   "execution_count": 7,
   "id": "c443f238-ae94-4f1d-8933-e3861a961802",
   "metadata": {},
   "outputs": [],
   "source": [
    "#Question 3:\n",
    "\n",
    "#3.   Show the output that will be displayed by the call show(123);\n",
    "def show(n):\n",
    "    if n>0: \n",
    "        show(n/10)\n",
    "    print((n%10))\n",
    "\n",
    "#Output:\n",
    "#3\n",
    "#2\n",
    "#1"
   ]
  },
  {
   "cell_type": "code",
   "execution_count": 9,
   "id": "c85a1b98-fd58-45af-8ccb-c9bcd676bec2",
   "metadata": {},
   "outputs": [],
   "source": [
    "#Question 4:Show the output that will be displayed by the call show(134);\n",
    "\n",
    "def show(n):\n",
    "    print(n%10)\n",
    "    if n>0: \n",
    "         show(n/10)\n",
    "\n",
    "#Output:\n",
    "#4\n",
    "#3\n",
    "#1"
   ]
  },
  {
   "cell_type": "code",
   "execution_count": 10,
   "id": "a6aae3a9-c2cd-4059-ac8a-eed4e0c1bf0f",
   "metadata": {},
   "outputs": [],
   "source": [
    "#Question 5:Show the output that will be displayed by the call show(145);\n",
    "\n",
    "def show(n):\n",
    "    print((n%10))\n",
    "    if n>0: \n",
    "        show(n/10)\n",
    "        print((n%10))\n",
    "\n",
    "#Output:\n",
    "#5\n",
    "#4\n",
    "#1\n",
    "#5\n",
    "#4\n",
    "#1"
   ]
  },
  {
   "cell_type": "code",
   "execution_count": 12,
   "id": "647d2ed7-7203-4cbb-943a-38435516bbb1",
   "metadata": {},
   "outputs": [],
   "source": [
    "#Question 6:Complete the Python code to recursively evaluate the sum: sum = 1 + 1/2 + 1/3 +...+1/n, n >= 1.\n",
    "\n",
    "def sum(n):              # n>=1\n",
    "    if n == 1:\n",
    "        return 1\n",
    "    return 1/n + sum(n - 1)"
   ]
  },
  {
   "cell_type": "code",
   "execution_count": 14,
   "id": "55e93563-bfed-45b6-ae08-4c1f5c7e4dfc",
   "metadata": {},
   "outputs": [],
   "source": [
    "#Question 7:Consider the following recursive function.\n",
    "def mystery(a, b):\n",
    "    if  b == 0 :    \n",
    "        return 0\n",
    "    elif b % 2 == 0:\n",
    "        return mystery(a+a, b/2)\n",
    "    else:\n",
    "        return (mystery(a+a, b/2) + a)\n",
    "\n",
    "#What values of a and b are directly handled by the stopping (base) case?\n",
    "#--> Trường hợp dừng (cơ sở) là khi `b == 0`. Trong trường hợp này, hàm trả về `0` và không thực hiện bất kỳ lệnh gọi đệ quy nào. Trường hợp này xử lý bất kỳ giá trị nào của `a` và `b = 0`.\n",
    "\n",
    "#What are the values of mystery(2, 25) and mystery(3, 11)? Given positive integers a and b, describe what value mystery(a, b) computes. Answer the same question, but replace + with *.\n",
    "#--> Giá trị của `mystery(2, 25)` và `mystery(3, 11)` lần lượt là `50` và `33`.\n",
    "\n",
    "#For the call  mystery(3, 7), how many calls to mystery will be made, including the original call?\n",
    "#--> Đối với lệnh gọi `mystery(3, 7)`, sẽ có **năm** lệnh gọi đến `mystery` được thực hiện, bao gồm cả lệnh gọi ban đầu."
   ]
  },
  {
   "cell_type": "code",
   "execution_count": 15,
   "id": "f4f03029-3111-4714-bd19-4ea9692a8190",
   "metadata": {},
   "outputs": [],
   "source": [
    "#Question 8:Consider the following recursive function.\n",
    "def ex237( n):  \n",
    "    if n <= 0: \n",
    "        return\n",
    "        print(n)\n",
    "        ex237(n-2)\n",
    "        ex237(n-3)\n",
    "        print(n)\n",
    "  \n",
    "#Give the sequence of integers printed by a call to ex237(6).\n",
    "#6\n",
    "#4\n",
    "#2\n",
    "#0\n",
    "#0\n",
    "#2\n",
    "#1\n",
    "#-1\n",
    "#-1\n",
    "#1\n",
    "#4\n",
    "#3\n",
    "#1\n",
    "#-1\n",
    "#-1\n",
    "#1\n",
    "#0\n",
    "#0\n",
    "#3\n",
    "#6"
   ]
  },
  {
   "cell_type": "code",
   "execution_count": 16,
   "id": "c4798910-fd70-4086-b93e-be088dcc930f",
   "metadata": {},
   "outputs": [],
   "source": [
    "#Question 9:Consider the following recursive function:\n",
    "\n",
    "def ex238(n):\n",
    "    if n <= 0: return ''\n",
    "    return (ex238(n-3) + n + ex238(n-2) + n)\n",
    "\n",
    "# Give the value of ex238(6). ---------------> 631246"
   ]
  },
  {
   "cell_type": "code",
   "execution_count": 17,
   "id": "f062269b-3f43-440c-9875-537c7f13c35b",
   "metadata": {},
   "outputs": [],
   "source": [
    "#Question 10:Prove by induction that the minimum possible number of moves needed to solve the towers of Hanoi satisfies the same recurrence as the number of moves used by our recursive solution.\n",
    "\n",
    "def hanoi(n, source, destination, spare):\n",
    "    # n là số lượng đĩa, nguồn, đích và phụ tùng là các chốt\n",
    "    if n == 1:\n",
    "        # base case: di chuyển một đĩa từ nguồn tới đích\n",
    "        print(f\"Move disk from {source} to {destination}\")\n",
    "    else:\n",
    "        # recursive case: di chuyển n-1 đĩa từ nguồn sang phụ, sau đó di chuyển đĩa lớn nhất từ nguồn tới đích, sau đó di chuyển n-1 đĩa từ phụ tùng đến đích.\n",
    "        hanoi(n-1, source, spare, destination)\n",
    "        hanoi(1, source, destination, spare)\n",
    "        hanoi(n-1, spare, destination, source)\n"
   ]
  }
 ],
 "metadata": {
  "kernelspec": {
   "display_name": "Python 3 (ipykernel)",
   "language": "python",
   "name": "python3"
  },
  "language_info": {
   "codemirror_mode": {
    "name": "ipython",
    "version": 3
   },
   "file_extension": ".py",
   "mimetype": "text/x-python",
   "name": "python",
   "nbconvert_exporter": "python",
   "pygments_lexer": "ipython3",
   "version": "3.10.0"
  }
 },
 "nbformat": 4,
 "nbformat_minor": 5
}
