{
 "cells": [
  {
   "cell_type": "code",
   "execution_count": 2,
   "id": "eb6ea325-404b-40f8-af1d-9966129d55ed",
   "metadata": {},
   "outputs": [
    {
     "name": "stdin",
     "output_type": "stream",
     "text": [
      "Enter input: 1 1 2 3 4 5 6 6 3\n"
     ]
    },
    {
     "name": "stdout",
     "output_type": "stream",
     "text": [
      "1 2 3 4 5 6\n"
     ]
    }
   ],
   "source": [
    "def unique(arr):\n",
    "    numbers = []\n",
    "    for num in arr:\n",
    "        if num not in numbers:\n",
    "            numbers.append(num)\n",
    "    return numbers\n",
    "\n",
    "\n",
    "n = input(\"Enter input:\")\n",
    "arr = list(map(int, n.split()))\n",
    "\n",
    "numbers = unique(arr)\n",
    "\n",
    "print(' '.join(map(str, numbers)))"
   ]
  }
 ],
 "metadata": {
  "kernelspec": {
   "display_name": "Python 3 (ipykernel)",
   "language": "python",
   "name": "python3"
  },
  "language_info": {
   "codemirror_mode": {
    "name": "ipython",
    "version": 3
   },
   "file_extension": ".py",
   "mimetype": "text/x-python",
   "name": "python",
   "nbconvert_exporter": "python",
   "pygments_lexer": "ipython3",
   "version": "3.11.3"
  }
 },
 "nbformat": 4,
 "nbformat_minor": 5
}
