{
 "cells": [
  {
   "cell_type": "code",
   "execution_count": 1,
   "id": "86bf0ab1-0d70-4c22-893e-dac67a2e7416",
   "metadata": {},
   "outputs": [
    {
     "name": "stdin",
     "output_type": "stream",
     "text": [
      "Enter input: 1 2 3 4 5 6 7\n"
     ]
    },
    {
     "name": "stdout",
     "output_type": "stream",
     "text": [
      "The position of the element nearest to the average is: 3\n"
     ]
    }
   ],
   "source": [
    "def find_nearest_to_average(arr):\n",
    "    average = sum(arr) / len(arr)\n",
    "\n",
    "    nearest_value = arr[0]\n",
    "    nearest_diff = abs(arr[0] - average)\n",
    "    nearest_index = 0\n",
    "\n",
    "    for i in range(1, len(arr)):\n",
    "        diff = abs(arr[i] - average)\n",
    "        if diff < nearest_diff:\n",
    "            nearest_value = arr[i]\n",
    "            nearest_diff = diff\n",
    "            nearest_index = i\n",
    "\n",
    "    return nearest_index\n",
    "n = input(\"Enter input:\")\n",
    "arr = []\n",
    "num = n.split(' ')\n",
    "for i in num:\n",
    "    arr.append(int(i))\n",
    "\n",
    "nearest_index = find_nearest_to_average(arr)\n",
    "\n",
    "print(\"The position of the element nearest to the average is:\",nearest_index)"
   ]
  }
 ],
 "metadata": {
  "kernelspec": {
   "display_name": "Python 3 (ipykernel)",
   "language": "python",
   "name": "python3"
  },
  "language_info": {
   "codemirror_mode": {
    "name": "ipython",
    "version": 3
   },
   "file_extension": ".py",
   "mimetype": "text/x-python",
   "name": "python",
   "nbconvert_exporter": "python",
   "pygments_lexer": "ipython3",
   "version": "3.11.3"
  }
 },
 "nbformat": 4,
 "nbformat_minor": 5
}
